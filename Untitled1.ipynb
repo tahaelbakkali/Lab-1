{
 "cells": [
  {
   "cell_type": "markdown",
   "id": "6575d90e",
   "metadata": {},
   "source": [
    "<hr />\n",
    "<H1 align=\"center\"><FONT COLOR=red>I] <U>Some functions for binary trees</U></H1>\n",
    " <hr />"
   ]
  },
  {
   "cell_type": "markdown",
   "id": "4a476394",
   "metadata": {},
   "source": [
    "<FONT size=\"3pt\"><FONT COLOR=blue> A Binary tree can be represented by this class :</FONT>"
   ]
  },
  {
   "cell_type": "code",
   "execution_count": 242,
   "id": "ee78e99f",
   "metadata": {},
   "outputs": [],
   "source": [
    "class BT():\n",
    "    def __init__(self, data):\n",
    "        self.data=data\n",
    "        self.right=None\n",
    "        self.left=None    \n",
    "        \n",
    "    def insertR_elt(self,right):\n",
    "        if self.right==None:\n",
    "            self.right=BT(right)\n",
    "\n",
    "    def insertR_Tr(self,right):\n",
    "        if self.right==None:\n",
    "            self.right=right\n",
    "            \n",
    "                     \n",
    "    def insertL_elt(self,left):\n",
    "        if self.left==None:\n",
    "            self.left=BT(left)\n",
    "    def insertL_Tr(self,left):\n",
    "        if self.left==None:\n",
    "            self.left=left            \n",
    "     \n",
    "    def __str__(self):\n",
    "        return \"[\"+ str(self.data) +\",[\"+str(self.left)+\",\"+str(self.right)+ \"]\"+  \"]\"\n",
    "\n",
    "\n",
    "            "
   ]
  },
  {
   "cell_type": "markdown",
   "id": "1a723c3c",
   "metadata": {},
   "source": [
    "<hr />\n",
    "<FONT size=\"2pt\"> <FONT color=\"red\">1)</FONT> Write a function isSubtree(S,G) which determines if a binary tree is a subtree of another binary tree</FONT>\n",
    "<hr />"
   ]
  },
  {
   "cell_type": "code",
   "execution_count": 46,
   "id": "a446cd0c",
   "metadata": {},
   "outputs": [],
   "source": []
  },
  {
   "attachments": {
    "image-2.png": {
     "image/png": "[encoded data removed]"
    }
   },
   "cell_type": "markdown",
   "id": "bc88cd79",
   "metadata": {},
   "source": [
    "<U><FONT size=\"3pt\"> Test your code with these examples: </FONT></U>\n",
    "![image-2.png](attachment:image-2.png)"
   ]
  },
  {
   "cell_type": "code",
   "execution_count": 255,
   "id": "a92ac4e4",
   "metadata": {
    "scrolled": true
   },
   "outputs": [
    {
     "name": "stdout",
     "output_type": "stream",
     "text": [
      "[2,[[4,[None,None]],[5,[None,None]]]]\n",
      "[4,[[1,[None,None]],[2,[None,None]]]]\n",
      "[1,[[2,[[4,[None,None]],[5,[None,None]]]],[3,[None,None]]]]\n",
      "True False\n"
     ]
    }
   ],
   "source": [
    "S1=BT(2)\n",
    "S1.insertL_elt(4)\n",
    "S1.insertR_elt(5)\n",
    "print(S1)\n",
    "S2=BT(4)\n",
    "S2.insertL_elt(1)\n",
    "S2.insertR_elt(2)\n",
    "print(S2)\n",
    "G=BT(1)\n",
    "G.insertR_elt(3)\n",
    "G.insertL_Tr(S1)\n",
    "print(G)\n",
    "print(isSubtree(None, G),isSubtree(S2, G))\n"
   ]
  },
  {
   "cell_type": "markdown",
   "id": "e7bdd1f8",
   "metadata": {},
   "source": [
    "<hr />\n",
    "<FONT size=\"2pt\"> <FONT color=\"red\">2)</FONT> Write a function MaxSumSubTree(G) that calculates the maximum sum among all possible subtrees in a binary tree of integer nodes</FONT>\n",
    "<hr />\n",
    "    "
   ]
  },
  {
   "cell_type": "code",
   "execution_count": null,
   "id": "576ad2ca",
   "metadata": {},
   "outputs": [],
   "source": []
  },
  {
   "cell_type": "markdown",
   "id": "ffa35b66",
   "metadata": {},
   "source": [
    " <FONT size=\"2pt\"> <FONT color=\"blue\">Definition :</FONT>  A height-balanced tree is defined as a binary tree in which the left and the right subtrees of every node differ in hight by no more than 1</FONT>\n",
    " <br><br>\n",
    " <hr />\n",
    " <FONT size=\"2pt\"> <FONT color=\"red\">3)</FONT> Write a function isBalanced(G) which detrmines if G is height-balanced</FONT>\n",
    "<hr />"
   ]
  },
  {
   "cell_type": "markdown",
   "id": "e0413151",
   "metadata": {},
   "source": [
    "    "
   ]
  },
  {
   "cell_type": "markdown",
   "id": "cf81389f",
   "metadata": {},
   "source": [
    "<hr />\n",
    "<H1 align=\"center\"><FONT COLOR=red>II] <U>Huffman coding</U></H1>\n",
    " <hr />"
   ]
  },
  {
   "cell_type": "markdown",
   "id": "8a776c70",
   "metadata": {},
   "source": [
    "Huffman coding is a widely used method in data compression. It is used to encode a text in binary, using a variable number of bits for each letter depending on how often the letter occurs. Huffman's idea is to identify the most frequent characters and assign them short codes, while the less frequent characters will have longer codes."
   ]
  },
  {
   "cell_type": "markdown",
   "id": "d87c0583",
   "metadata": {},
   "source": [
    "<FONT size=\"4pt\"> <FONT color=\"blue\">I)  <U>Sorting the list of frequencies</U></FONT></FONT>"
   ]
  },
  {
   "cell_type": "markdown",
   "id": "27632b2d",
   "metadata": {},
   "source": [
    " <FONT size=\"2pt\"> <FONT color=\"red\">1)</FONT> Write a function: freq(L), which takes as a parameter a list of characters L, and returns a list of tuples: Each tuple consists of an element from L and its occurrence (repetition) in L. The first elements of the frequency list tuples should all be different (without duplicates)</FONT>\n",
    "<br>    \n",
    "<U> Example:</U> <br>\n",
    "L = ['C' , 'A' , 'S' , 'A' , 'B' , 'L' , 'A' , 'N' , 'C' , 'A'] The freq(L) function returns the list : <br>\n",
    "F = [('C', 2), ('A', 4), ('S', 1), ('B', 1), ('L', 1), ('N', 1)].    "
   ]
  },
  {
   "cell_type": "code",
   "execution_count": 30,
   "id": "f05fa5f9",
   "metadata": {},
   "outputs": [
    {
     "data": {
      "text/plain": [
       "[('T', 1), ('A', 2), ('H', 1)]"
      ]
     },
     "execution_count": 30,
     "metadata": {},
     "output_type": "execute_result"
    }
   ],
   "source": [
    "def freq(L):\n",
    "    Result=[]\n",
    "    S=[(j,L.count(j)) for j in L]\n",
    "    \n",
    "    for k in S:\n",
    "        if k not in Result:Result.append(k)\n",
    "    return Result      \n",
    "    \n",
    "freq(['T','A','H','A'])"
   ]
  },
  {
   "cell_type": "markdown",
   "id": "a63ca724",
   "metadata": {},
   "source": [
    "<FONT size=\"2pt\"> <FONT color=\"red\">2)</FONT> Use merge sort to write the function: tri(F), which takes the list F of frequencies as a parameter and sorts the elements of list F in ascending order of occurrences.\n",
    "</FONT>\n",
    "<br>    \n",
    "<U> Example:</U> <br>\n",
    "F = ['C' , 'A' , 'S' , 'A' , 'B' , 'L' , 'A' , 'N' , 'C' , 'A'] The tri(F) function returns the list : <br>\n",
    "SF = [('S', 1), ('B', 1), ('L', 1), ('N', 1), ('C', 2), ('A', 4)].    "
   ]
  },
  {
   "cell_type": "code",
   "execution_count": 53,
   "id": "f948e127",
   "metadata": {},
   "outputs": [],
   "source": [
    "def fusion(L_1,L_2):\n",
    "    if L_1==[]:return L_2\n",
    "    if L_2==[]:return L_1\n",
    "    \n",
    "    if L_1[0]<L_2[0]: return [L_1[0]]+fusion(L_1[1:],L_2)\n",
    "    else:return [L_2[0]]+fusion(L_1,L_2[1:])\n",
    "def tri(F):\n",
    "    if len(F)<=1:\n",
    "        return(F)\n",
    "    else:\n",
    "        return(fusion(tri(F[:len(F)//2]),tri(F[len(F)//2:])))    \n"
   ]
  },
  {
   "cell_type": "code",
   "execution_count": 51,
   "id": "a6945077",
   "metadata": {},
   "outputs": [],
   "source": []
  },
  {
   "cell_type": "markdown",
   "id": "ed8defb2",
   "metadata": {},
   "source": [
    "<img src=\"./images/mergeSort.png\" alt=\"Alternative text\">\n",
    "\n"
   ]
  },
  {
   "cell_type": "code",
   "execution_count": null,
   "id": "9dcc1982",
   "metadata": {},
   "outputs": [],
   "source": []
  }
 ],
 "metadata": {
  "kernelspec": {
   "display_name": "Python 3 (ipykernel)",
   "language": "python",
   "name": "python3"
  },
  "language_info": {
   "codemirror_mode": {
    "name": "ipython",
    "version": 3
   },
   "file_extension": ".py",
   "mimetype": "text/x-python",
   "name": "python",
   "nbconvert_exporter": "python",
   "pygments_lexer": "ipython3",
   "version": "3.11.4"
  }
 },
 "nbformat": 4,
 "nbformat_minor": 5
}
